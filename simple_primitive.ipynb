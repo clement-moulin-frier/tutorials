{
 "metadata": {
  "name": "",
  "signature": "sha256:088bc52d1acae678e2930be720cf02ee8554663bc7bc2d9ca2cdd7aea1e91499"
 },
 "nbformat": 3,
 "nbformat_minor": 0,
 "worksheets": [
  {
   "cells": [
    {
     "cell_type": "heading",
     "level": 1,
     "metadata": {},
     "source": [
      "Using pypot's primitive"
     ]
    },
    {
     "cell_type": "markdown",
     "metadata": {},
     "source": [
      "In this notebook we will show how you can write simple motions thanks to primitive and how you can easily combine them into more complex behaviors."
     ]
    },
    {
     "cell_type": "markdown",
     "metadata": {},
     "source": [
      "We will create a robot for the rest of this tutorial. Here again you can use a real or simulated version."
     ]
    },
    {
     "cell_type": "code",
     "collapsed": false,
     "input": [
      "import os\n",
      "import poppytools\n",
      "\n",
      "from pypot.robot import from_json\n",
      "\n",
      "config_path = os.path.join(os.path.dirname(poppytools.__file__), 'configuration', 'poppy_config.json')\n",
      "\n",
      "robot = from_json(config_path)\n",
      "robot.start_sync()"
     ],
     "language": "python",
     "metadata": {},
     "outputs": [],
     "prompt_number": 1
    },
    {
     "cell_type": "heading",
     "level": 2,
     "metadata": {},
     "source": [
      "What do we call primitive?"
     ]
    },
    {
     "cell_type": "markdown",
     "metadata": {},
     "source": [
      "In pypot, a primitive is basically a thread that have acess (both read and write) to the different motors and sensors of a robot."
     ]
    },
    {
     "cell_type": "markdown",
     "metadata": {},
     "source": [
      "You write them in the exact same way as you would write if you want to directly control your robot. For instance, using the sinus written in [this notebook](http://nbviewer.ipython.org/github/pierre-rouanet/tutorials/blob/master/real_vs_simu_poppy.ipynb):"
     ]
    },
    {
     "cell_type": "code",
     "collapsed": false,
     "input": [
      "%pylab inline"
     ],
     "language": "python",
     "metadata": {},
     "outputs": [
      {
       "output_type": "stream",
       "stream": "stdout",
       "text": [
        "Populating the interactive namespace from numpy and matplotlib\n"
       ]
      }
     ],
     "prompt_number": 2
    },
    {
     "cell_type": "code",
     "collapsed": false,
     "input": [
      "amp = 30 # in degrees\n",
      "freq = 0.3 # in Hz \n",
      "duration = 10 # in s\n",
      "\n",
      "# Our sinus will be send at 50Hz to match the refresh frequency.\n",
      "# This is not at all mandatory, yet sending at a higher frequency will have no impact.\n",
      "step = 1 / 50.\n",
      "N = duration / step\n",
      "\n",
      "t = linspace(0, duration, N)\n",
      "pos = amp * sin(2 * pi * freq * t)\n",
      "\n",
      "import time\n",
      "\n",
      "for p in pos:\n",
      "    robot.head_z.goal_position = p\n",
      "    time.sleep(step)"
     ],
     "language": "python",
     "metadata": {},
     "outputs": [],
     "prompt_number": 3
    },
    {
     "cell_type": "markdown",
     "metadata": {},
     "source": [
      "You can easily make it a primitive:"
     ]
    },
    {
     "cell_type": "code",
     "collapsed": false,
     "input": [
      "from pypot.primitive import Primitive\n",
      "\n",
      "class MySinusPrimitive(Primitive):\n",
      "    def run(self):\n",
      "        amp = 30 # in degrees\n",
      "        freq = 0.3 # in Hz \n",
      "        duration = 10 # in s\n",
      "\n",
      "        # Our sinus will be send at 50Hz to match the refresh frequency.\n",
      "        # This is not at all mandatory, yet sending at a higher frequency will have no impact.\n",
      "        step = 1 / 50.\n",
      "        N = duration / step\n",
      "\n",
      "        t = linspace(0, duration, N)\n",
      "        pos = amp * sin(2 * pi * freq * t)\n",
      "\n",
      "        for p in pos:\n",
      "            self.robot.head_z.goal_position = p\n",
      "            time.sleep(step)"
     ],
     "language": "python",
     "metadata": {},
     "outputs": [],
     "prompt_number": 4
    },
    {
     "cell_type": "markdown",
     "metadata": {},
     "source": [
      "Basically all you had to do was to wrapped the code in the [run method](http://poppy-project.github.io/pypot/pypot.primitive.html#pypot.primitive.primitive.Primitive.run) of your primitive and change all the ```robot``` by ```self.robot```."
     ]
    },
    {
     "cell_type": "markdown",
     "metadata": {},
     "source": [
      "You should be able to run your primitive juste by doing:"
     ]
    },
    {
     "cell_type": "code",
     "collapsed": false,
     "input": [
      "prim = MySinusPrimitive(robot)\n",
      "prim.start()"
     ],
     "language": "python",
     "metadata": {},
     "outputs": [],
     "prompt_number": 5
    },
    {
     "cell_type": "markdown",
     "metadata": {},
     "source": [
      "And wait for it to end."
     ]
    },
    {
     "cell_type": "code",
     "collapsed": false,
     "input": [
      "prim.wait_to_stop()"
     ],
     "language": "python",
     "metadata": {},
     "outputs": [],
     "prompt_number": 6
    },
    {
     "cell_type": "markdown",
     "metadata": {},
     "source": [
      "You can restart it as many times as you want. This will run the primitives 3 times:"
     ]
    },
    {
     "cell_type": "code",
     "collapsed": false,
     "input": [
      "for _ in range(3):\n",
      "    prim.start()\n",
      "    prim.wait_to_stop()"
     ],
     "language": "python",
     "metadata": {},
     "outputs": [],
     "prompt_number": 7
    },
    {
     "cell_type": "markdown",
     "metadata": {},
     "source": [
      "So what's the point? Well, primitive can be easily **combined**."
     ]
    },
    {
     "cell_type": "heading",
     "level": 2,
     "metadata": {},
     "source": [
      "Combining primitives"
     ]
    },
    {
     "cell_type": "markdown",
     "metadata": {},
     "source": [
      "Let's re-write this primitve so you can choose the *amplitude*, *duration*, and *frequency* of your sinus at instantiation."
     ]
    },
    {
     "cell_type": "code",
     "collapsed": false,
     "input": [
      "class MySinusPrimitive(Primitive):\n",
      "    def __init__(self, robot, freq, amp, duration):\n",
      "        Primitive.__init__(self, robot)\n",
      "        \n",
      "        self.freq = freq\n",
      "        self.amp = amp\n",
      "        self.duration = duration\n",
      "        \n",
      "    def run(self):\n",
      "        # Our sinus will be send at 50Hz to match the refresh frequency.\n",
      "        # This is not at all mandatory, yet sending at a higher frequency will have no impact.\n",
      "        step = 1 / 50.\n",
      "        N = self.duration / step\n",
      "\n",
      "        t = linspace(0, self.duration, N)\n",
      "        pos = self.amp * sin(2 * pi * self.freq * t)\n",
      "\n",
      "        for p in pos:\n",
      "            self.robot.head_z.goal_position = p\n",
      "            time.sleep(step)"
     ],
     "language": "python",
     "metadata": {},
     "outputs": [],
     "prompt_number": 8
    },
    {
     "cell_type": "markdown",
     "metadata": {},
     "source": [
      "Now we can create two sinuses with different settings:"
     ]
    },
    {
     "cell_type": "code",
     "collapsed": false,
     "input": [
      "s1 = MySinusPrimitive(robot, 0.25, 20., 10.)\n",
      "s2 = MySinusPrimitive(robot, 1., 5., 20.)"
     ],
     "language": "python",
     "metadata": {},
     "outputs": [],
     "prompt_number": 9
    },
    {
     "cell_type": "markdown",
     "metadata": {},
     "source": [
      "You can run one at a time:"
     ]
    },
    {
     "cell_type": "code",
     "collapsed": false,
     "input": [
      "s1.start()\n",
      "s1.wait_to_stop()"
     ],
     "language": "python",
     "metadata": {},
     "outputs": [],
     "prompt_number": 10
    },
    {
     "cell_type": "code",
     "collapsed": false,
     "input": [
      "s2.start()\n",
      "s2.wait_to_stop()"
     ],
     "language": "python",
     "metadata": {},
     "outputs": [],
     "prompt_number": 11
    },
    {
     "cell_type": "markdown",
     "metadata": {},
     "source": [
      "Or both in parallel:"
     ]
    },
    {
     "cell_type": "code",
     "collapsed": false,
     "input": [
      "s1.start()\n",
      "s2.start()\n",
      "\n",
      "s1.wait_to_stop() \n",
      "s2.wait_to_stop()"
     ],
     "language": "python",
     "metadata": {},
     "outputs": [],
     "prompt_number": 12
    },
    {
     "cell_type": "markdown",
     "metadata": {},
     "source": [
      "You should observe that the motion actually made by the motor was the mean of the two sinuses. Ssomething like this:"
     ]
    },
    {
     "cell_type": "markdown",
     "metadata": {},
     "source": [
      "![Alt text](sinus-sum.pdf)"
     ]
    },
    {
     "cell_type": "markdown",
     "metadata": {},
     "source": [
      "Primitives are automatically combined through a [PrimitiveManager](http://poppy-project.github.io/pypot/pypot.primitive.html#pypot.primitive.manager.PrimitiveManager). You can defined the way they are combined through a filter (which is numpy.mean by default). In future versions, we hope to provide users with more control on how primitives could be combined: e.g. using primitives hierarchy, having special filter per motors... (See this [issue](https://github.com/poppy-project/pypot/issues/12) on our github for details)."
     ]
    },
    {
     "cell_type": "heading",
     "level": 2,
     "metadata": {},
     "source": [
      "Primitive and LoopPrimitive"
     ]
    },
    {
     "cell_type": "markdown",
     "metadata": {},
     "source": [
      "Primitives come in two flavors: \n",
      "* regular [Primitive](http://poppy-project.github.io/pypot/pypot.primitive.html#pypot.primitive.primitive.Primitive)\n",
      "* and [LoopPrimitive](http://poppy-project.github.io/pypot/pypot.primitive.html#pypot.primitive.primitive.LoopPrimitive)"
     ]
    },
    {
     "cell_type": "markdown",
     "metadata": {},
     "source": [
      "LoopPrimitive are just Primitive with a predifined run that calls an [update method](http://poppy-project.github.io/pypot/pypot.primitive.html#pypot.primitive.primitive.LoopPrimitive.update) at a predefined frequency."
     ]
    },
    {
     "cell_type": "markdown",
     "metadata": {},
     "source": [
      "For instance, we could re-write our sinus as a LoopPrimitive:"
     ]
    },
    {
     "cell_type": "code",
     "collapsed": false,
     "input": [
      "from pypot.primitive import LoopPrimitive\n",
      "\n",
      "class MySinusLoopPrimitive(LoopPrimitive):\n",
      "    def __init__(self, robot, update_freq, \n",
      "                 sin_freq, amp, duration):\n",
      "        LoopPrimitive.__init__(self, robot, update_freq)\n",
      "        \n",
      "        self.freq = sin_freq\n",
      "        self.amp = amp\n",
      "        self.duration = duration\n",
      "        \n",
      "    def update(self):\n",
      "        t = self.elapsed_time\n",
      "        p = self.amp * sin(2 * pi * self.freq * t)\n",
      "        self.robot.head_z.goal_position = p"
     ],
     "language": "python",
     "metadata": {},
     "outputs": [],
     "prompt_number": 13
    },
    {
     "cell_type": "markdown",
     "metadata": {},
     "source": [
      "Note that LoopPrimitive will run until stopped."
     ]
    },
    {
     "cell_type": "code",
     "collapsed": false,
     "input": [
      "ls1 = MySinusLoopPrimitive(robot, 50.0, 0.25, 20., 10.)\n",
      "ls1.start()"
     ],
     "language": "python",
     "metadata": {},
     "outputs": [],
     "prompt_number": 14
    },
    {
     "cell_type": "markdown",
     "metadata": {},
     "source": [
      "And stop it whenever you want."
     ]
    },
    {
     "cell_type": "code",
     "collapsed": false,
     "input": [
      "ls1.stop()"
     ],
     "language": "python",
     "metadata": {},
     "outputs": [],
     "prompt_number": 15
    },
    {
     "cell_type": "markdown",
     "metadata": {},
     "source": [
      "You can also pause and resume primitives."
     ]
    },
    {
     "cell_type": "code",
     "collapsed": false,
     "input": [
      "ls1.start()\n",
      "\n",
      "time.sleep(5)\n",
      "\n",
      "ls1.pause()\n",
      "\n",
      "time.sleep(5)\n",
      "\n",
      "ls1.resume()\n",
      "\n",
      "time.sleep(5)\n",
      "\n",
      "ls1.stop()"
     ],
     "language": "python",
     "metadata": {},
     "outputs": [],
     "prompt_number": 16
    },
    {
     "cell_type": "markdown",
     "metadata": {},
     "source": [
      "The code above will result in a motion looking like this:"
     ]
    },
    {
     "cell_type": "markdown",
     "metadata": {},
     "source": [
      "![Alt text](sinus-paused.pdf)"
     ]
    },
    {
     "cell_type": "heading",
     "level": 2,
     "metadata": {},
     "source": [
      "Other uses of Primitive"
     ]
    },
    {
     "cell_type": "markdown",
     "metadata": {},
     "source": [
      "Primitive are also useful for other things that motion. For instance, it's a very simple way to write a recorder. All the figures above were actually created using this recorder:"
     ]
    },
    {
     "cell_type": "code",
     "collapsed": false,
     "input": [
      "class MyRecorder(LoopPrimitive):\n",
      "    def setup(self):\n",
      "        self.pos = []\n",
      "        \n",
      "    def update(self):\n",
      "        self.pos.append(self.robot.head_z.present_position)\n",
      "        \n",
      "    def plot(self, ax):\n",
      "        t = linspace(0, self.elapsed_time, len(self.pos))\n",
      "        ax.plot(t, self.pos)"
     ],
     "language": "python",
     "metadata": {},
     "outputs": [],
     "prompt_number": 17
    },
    {
     "cell_type": "markdown",
     "metadata": {},
     "source": [
      "And using it like this:"
     ]
    },
    {
     "cell_type": "code",
     "collapsed": false,
     "input": [
      "r = MyRecorder(robot, 10.)\n",
      "\n",
      "r.start()\n",
      "\n",
      "s1.start()\n",
      "s2.start()\n",
      "s1.wait_to_stop()\n",
      "s2.wait_to_stop()\n",
      "\n",
      "r.stop()\n",
      "\n",
      "ax = axes()\n",
      "r.plot(ax)"
     ],
     "language": "python",
     "metadata": {},
     "outputs": [
      {
       "metadata": {},
       "output_type": "display_data",
       "png": "[encoded data removed]",
       "text": [
        "<matplotlib.figure.Figure at 0x113ae7f90>"
       ]
      }
     ],
     "prompt_number": 18
    },
    {
     "cell_type": "code",
     "collapsed": false,
     "input": [],
     "language": "python",
     "metadata": {},
     "outputs": []
    }
   ],
   "metadata": {}
  }
 ]
}