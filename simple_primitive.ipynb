{
 "metadata": {
  "name": "",
  "signature": "sha256:1639b66e8ccdab3135b1314e70e910abe10a66e013a6a683535d367ae9322534"
 },
 "nbformat": 3,
 "nbformat_minor": 0,
 "worksheets": [
  {
   "cells": [
    {
     "cell_type": "code",
     "collapsed": false,
     "input": [],
     "language": "python",
     "metadata": {},
     "outputs": []
    }
   ],
   "metadata": {}
  }
 ]
}