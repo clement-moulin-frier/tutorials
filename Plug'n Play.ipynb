{
 "metadata": {
  "name": "",
  "signature": "sha256:181dff2fe9289467f8f05981fa779fadb143c5ac794451bce78e895be5409790"
 },
 "nbformat": 3,
 "nbformat_minor": 0,
 "worksheets": [
  {
   "cells": [
    {
     "cell_type": "heading",
     "level": 1,
     "metadata": {},
     "source": [
      "Plug'n Play robotics"
     ]
    },
    {
     "cell_type": "heading",
     "level": 2,
     "metadata": {},
     "source": [
      "Autodection of dynamixel based robot"
     ]
    },
    {
     "cell_type": "markdown",
     "metadata": {},
     "source": [
      "In pypot you can use a specific function - [autodetect_robot](https://github.com/poppy-project/pypot/blob/vrep/pypot/dynamixel/__init__.py) -  to automatically scan each usb2serial ports and creates a robot will all attached dynamixel motors. This is a convenient way to quickly plug a few motors and used them as a [Robot](http://poppy-project.github.io/pypot/pypot.robot.html#pypot.robot.robot.Robot)."
     ]
    },
    {
     "cell_type": "markdown",
     "metadata": {},
     "source": [
      "You can create a robot for any configurations of robot (e.g. using multiple dynamixel buses) using:"
     ]
    },
    {
     "cell_type": "code",
     "collapsed": false,
     "input": [
      "from pypot.dynamixel import autodetect_robot\n",
      "\n",
      "robot = autodetect_robot()"
     ],
     "language": "python",
     "metadata": {},
     "outputs": [],
     "prompt_number": 1
    },
    {
     "cell_type": "markdown",
     "metadata": {},
     "source": [
      "This will create a robot with all motors found attached:"
     ]
    },
    {
     "cell_type": "code",
     "collapsed": false,
     "input": [
      "[m.name for m in robot.motors]"
     ],
     "language": "python",
     "metadata": {},
     "outputs": [
      {
       "metadata": {},
       "output_type": "pyout",
       "prompt_number": 2,
       "text": [
        "['motor_11', 'motor_12', 'motor_13', 'motor_14', 'motor_15', 'motor_16']"
       ]
      }
     ],
     "prompt_number": 2
    },
    {
     "cell_type": "markdown",
     "metadata": {},
     "source": [
      "As you can see, motor's names are defined as ```motor_{id}```."
     ]
    },
    {
     "cell_type": "markdown",
     "metadata": {},
     "source": [
      "Note that obviously, pypot can't guess the motors offset and limits so default value will be used:\n",
      "* offset = 0\n",
      "* angle_limit = current ones"
     ]
    },
    {
     "cell_type": "markdown",
     "metadata": {},
     "source": [
      "You can then use you robot as any other kind of robot:"
     ]
    },
    {
     "cell_type": "code",
     "collapsed": false,
     "input": [
      "robot.start_sync()\n",
      "\n",
      "for m in robot.motors:\n",
      "    m.compliant = False\n",
      "    m.goal_position = 0.0"
     ],
     "language": "python",
     "metadata": {},
     "outputs": [],
     "prompt_number": 3
    },
    {
     "cell_type": "heading",
     "level": 2,
     "metadata": {},
     "source": [
      "Exporting the configuration"
     ]
    },
    {
     "cell_type": "markdown",
     "metadata": {},
     "source": [
      "As scanning all ports can be time consumming, it's recommended to use [autodetect_robot](https://github.com/poppy-project/pypot/blob/vrep/pypot/dynamixel/__init__.py) only once, and then to export the robot's configuration."
     ]
    },
    {
     "cell_type": "code",
     "collapsed": false,
     "input": [
      "config = robot.to_config()\n",
      "config"
     ],
     "language": "python",
     "metadata": {},
     "outputs": [
      {
       "metadata": {},
       "output_type": "pyout",
       "prompt_number": 4,
       "text": [
        "{'controllers': {'dxl_controller_0': {'attached_motors': ['motor_11',\n",
        "    'motor_12',\n",
        "    'motor_13',\n",
        "    'motor_14',\n",
        "    'motor_15',\n",
        "    'motor_16'],\n",
        "   'port': '/dev/tty.usbserial-A4012ACT',\n",
        "   'sync_read': False}},\n",
        " 'motorgroups': {},\n",
        " 'motors': {'motor_11': {'angle_limit': (-67.6, 112.46),\n",
        "   'id': 11,\n",
        "   'offset': 0.0,\n",
        "   'orientation': 'direct',\n",
        "   'type': 'RX-64'},\n",
        "  'motor_12': {'angle_limit': (-89.88, 89.88),\n",
        "   'id': 12,\n",
        "   'offset': 0.0,\n",
        "   'orientation': 'direct',\n",
        "   'type': 'RX-64'},\n",
        "  'motor_13': {'angle_limit': (-89.88, 89.88),\n",
        "   'id': 13,\n",
        "   'offset': 0.0,\n",
        "   'orientation': 'direct',\n",
        "   'type': 'RX-64'},\n",
        "  'motor_14': {'angle_limit': (-67.6, 112.46),\n",
        "   'id': 14,\n",
        "   'offset': 0.0,\n",
        "   'orientation': 'direct',\n",
        "   'type': 'RX-28'},\n",
        "  'motor_15': {'angle_limit': (-89.88, 89.88),\n",
        "   'id': 15,\n",
        "   'offset': 0.0,\n",
        "   'orientation': 'direct',\n",
        "   'type': 'RX-28'},\n",
        "  'motor_16': {'angle_limit': (-89.88, 89.88),\n",
        "   'id': 16,\n",
        "   'offset': 0.0,\n",
        "   'orientation': 'direct',\n",
        "   'type': 'RX-28'}}}"
       ]
      }
     ],
     "prompt_number": 4
    },
    {
     "cell_type": "markdown",
     "metadata": {},
     "source": [
      "The config can directly be edited: e.g. to change motor's names or set the correct offsets:"
     ]
    },
    {
     "cell_type": "code",
     "collapsed": false,
     "input": [
      "config['motors']['motor_13']['offset'] = 22.5"
     ],
     "language": "python",
     "metadata": {},
     "outputs": [],
     "prompt_number": 5
    },
    {
     "cell_type": "markdown",
     "metadata": {},
     "source": [
      "You can save it to a json file which can then easily be reloaded."
     ]
    },
    {
     "cell_type": "code",
     "collapsed": false,
     "input": [
      "import json\n",
      "\n",
      "with open('my-config.json', 'w') as f:\n",
      "    json.dump(robot.to_config(), f, indent=2)"
     ],
     "language": "python",
     "metadata": {},
     "outputs": [],
     "prompt_number": 6
    },
    {
     "cell_type": "code",
     "collapsed": false,
     "input": [
      "robot.close()"
     ],
     "language": "python",
     "metadata": {},
     "outputs": [],
     "prompt_number": 7
    },
    {
     "cell_type": "code",
     "collapsed": false,
     "input": [
      "from pypot.robot import from_json\n",
      "\n",
      "robot = from_json('my-config.json')"
     ],
     "language": "python",
     "metadata": {},
     "outputs": [],
     "prompt_number": 8
    }
   ],
   "metadata": {}
  }
 ]
}