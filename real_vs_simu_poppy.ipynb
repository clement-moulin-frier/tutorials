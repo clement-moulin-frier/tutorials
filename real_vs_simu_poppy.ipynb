{
 "metadata": {
  "name": "",
  "signature": "sha256:6130e2022680e03aeb949892c9972434e89a02f4d33014892a8d6c7fed071e99"
 },
 "nbformat": 3,
 "nbformat_minor": 0,
 "worksheets": [
  {
   "cells": [
    {
     "cell_type": "code",
     "collapsed": false,
     "input": [
      "import json\n",
      "\n",
      "config_path = 'poppy_config.json'\n",
      "\n",
      "with open(config_path) as cf:\n",
      "    config = json.load(cf)"
     ],
     "language": "python",
     "metadata": {},
     "outputs": []
    },
    {
     "cell_type": "code",
     "collapsed": false,
     "input": [
      "use_real_poppy = False"
     ],
     "language": "python",
     "metadata": {},
     "outputs": []
    },
    {
     "cell_type": "code",
     "collapsed": false,
     "input": [
      "if use_real_poppy:\n",
      "    from pypot.robot import from_config\n",
      "    \n",
      "    poppy = from_config(config)\n",
      "    \n",
      "else:\n",
      "    \n",
      "    from pypot.vrep import from_vrep\n",
      "\n",
      "    scene_path = 'poppy-sitting.ttt'\n",
      "    \n",
      "    poppy = from_vrep(config, '127.0.0.1', 19997, scene_path,\n",
      "                      tracked_objects=['left_hand_tracker', 'right_hand_tracker'])"
     ],
     "language": "python",
     "metadata": {},
     "outputs": [],
     "prompt_number": 1
    },
    {
     "cell_type": "code",
     "collapsed": false,
     "input": [
      "poppy.start_sync()"
     ],
     "language": "python",
     "metadata": {},
     "outputs": [],
     "prompt_number": 2
    },
    {
     "cell_type": "code",
     "collapsed": false,
     "input": [
      "from poppy"
     ],
     "language": "python",
     "metadata": {},
     "outputs": []
    }
   ],
   "metadata": {}
  }
 ]
}