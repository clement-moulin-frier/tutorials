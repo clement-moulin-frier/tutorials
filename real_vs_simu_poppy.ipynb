{
 "metadata": {
  "name": "",
  "signature": "sha256:0647505612ab2ad9367647c2d8ed371c3370badaa21c4c28f6b70202378c5cab"
 },
 "nbformat": 3,
 "nbformat_minor": 0,
 "worksheets": [
  {
   "cells": [
    {
     "cell_type": "heading",
     "level": 1,
     "metadata": {},
     "source": [
      "Controlling a robot with pypot"
     ]
    },
    {
     "cell_type": "markdown",
     "metadata": {},
     "source": [
      "In this notebook, we will show you the very basic way of controlling your robot using pypot. More precisely, we will see how to:\n",
      "* instantiate a [pypot Robot](http://poppy-project.github.io/pypot/pypot.robot.html#pypot.robot.robot.Robot) (e.g. using a configuration file)\n",
      "* reading sensor values\n",
      "* sending motor commands"
     ]
    },
    {
     "cell_type": "markdown",
     "metadata": {},
     "source": [
      "All examples we will be based on the robot [Poppy](http://www.poppy-project.org), yet as detailed below you don't actually need the real robot as you can use a simulated version instead."
     ]
    },
    {
     "cell_type": "markdown",
     "metadata": {},
     "source": [
      "While you have access to other control layers (e.g. dynamixel low-level or defining your own controller), the method presented in this notebook should be the **best one for most use cases**."
     ]
    },
    {
     "cell_type": "markdown",
     "metadata": {},
     "source": [
      "Finally, in this notebook we will also show how you can seamlessly switch from controlling a real robot to controlling the simulated version in [V-REP](http://www.coppeliarobotics.com)."
     ]
    },
    {
     "cell_type": "heading",
     "level": 2,
     "metadata": {},
     "source": [
      "Instantiating a robot in pypot"
     ]
    },
    {
     "cell_type": "markdown",
     "metadata": {},
     "source": [
      "The [Robot](http://poppy-project.github.io/pypot/pypot.robot.html#pypot.robot.robot.Robot) class in pypot provides different factories that can be used to easily instantiate it:\n",
      "* [from_config](http://poppy-project.github.io/pypot/pypot.robot.html?highlight=from_config#pypot.robot.config.from_config)\n",
      "* [from_json](http://poppy-project.github.io/pypot/pypot.robot.html?highlight=from_config#pypot.robot.config.from_json)\n",
      "* [autodetect_robot](https://github.com/poppy-project/pypot/blob/vrep/pypot/dynamixel/__init__.py) (only available in the vrep branch)"
     ]
    },
    {
     "cell_type": "markdown",
     "metadata": {},
     "source": [
      "Robot in pypot are built using a configuration dictionary. This configuration defines which port to use, which motors are connected to each buses..."
     ]
    },
    {
     "cell_type": "markdown",
     "metadata": {},
     "source": [
      "You can find Poppy's configuration file directly in the [poppytools](https://github.com/poppy-project/poppy-software) package:"
     ]
    },
    {
     "cell_type": "code",
     "collapsed": false,
     "input": [
      "import os\n",
      "import poppytools\n",
      "\n",
      "config_path = os.path.join(os.path.dirname(poppytools.__file__), 'configuration', 'poppy_config.json')"
     ],
     "language": "python",
     "metadata": {},
     "outputs": [],
     "prompt_number": 1
    },
    {
     "cell_type": "markdown",
     "metadata": {},
     "source": [
      "For details on what's inside those configuration files, please directly refer to [pypot's documentation](http://poppy-project.github.io/pypot/controller.html#writing-the-configuration)."
     ]
    },
    {
     "cell_type": "markdown",
     "metadata": {},
     "source": [
      "You can then easily instantiate your robot using the [from_json](http://poppy-project.github.io/pypot/pypot.robot.html?highlight=json#pypot.robot.config.from_json) factory (you should have plugged your Poppy to your computer at this point):"
     ]
    },
    {
     "cell_type": "code",
     "collapsed": false,
     "input": [
      "from pypot.robot import from_json\n",
      "\n",
      "poppy = from_json(config_path)"
     ],
     "language": "python",
     "metadata": {},
     "outputs": [],
     "prompt_number": 2
    },
    {
     "cell_type": "markdown",
     "metadata": {},
     "source": [
      "If everything went well you should now be connected to the robot."
     ]
    },
    {
     "cell_type": "heading",
     "level": 2,
     "metadata": {},
     "source": [
      "Using a simulated version instead"
     ]
    },
    {
     "cell_type": "markdown",
     "metadata": {},
     "source": [
      "If you don't have a real robot, you can still play with the simulated version. You can connect pypot to the [V-REP](http://www.coppeliarobotics.com) robotic simulator."
     ]
    },
    {
     "cell_type": "markdown",
     "metadata": {},
     "source": [
      " Please refer to [this post](https://forum.poppy-project.org/t/howto-connect-pypot-to-you-simulated-version-of-poppy-in-v-rep/332) for information on how to do this."
     ]
    },
    {
     "cell_type": "markdown",
     "metadata": {},
     "source": [
      "Once you have started your V-REP, instead of using the [from_json](http://poppy-project.github.io/pypot/pypot.robot.html?highlight=from_json#pypot.robot.config.from_json) factory you can use [from_vrep](https://github.com/poppy-project/pypot/blob/vrep/pypot/vrep/__init__.py) to instantiate your robot:"
     ]
    },
    {
     "cell_type": "code",
     "collapsed": false,
     "input": [
      "from pypot.vrep import from_vrep\n",
      "\n",
      "import json\n",
      "\n",
      "with open(config_path) as f:\n",
      "    config = json.load(f)\n",
      "\n",
      "poppy = from_vrep(config=config, vrep_host='127.0.0.1', vrep_port=19997, vrep_scene='poppy-sitting.ttt')"
     ],
     "language": "python",
     "metadata": {},
     "outputs": [],
     "prompt_number": 2
    },
    {
     "cell_type": "heading",
     "level": 2,
     "metadata": {},
     "source": [
      "Seamlessy switch to the simulation to the real world"
     ]
    },
    {
     "cell_type": "markdown",
     "metadata": {},
     "source": [
      "It's important to note that the rest of the notebook will work exactly the same whether if you use the real robot or the simulated version."
     ]
    },
    {
     "cell_type": "markdown",
     "metadata": {},
     "source": [
      "This is very important is it will allow you to run the same code in both cases. For instance, you could use the simulator to debug your code before running it on the real robot. In our team, we also use it to run an compare the same experiment run in a simulation or in the real world."
     ]
    },
    {
     "cell_type": "markdown",
     "metadata": {},
     "source": [
      "The simulated version of the robot add the method [reset_simulation]() which is a very convenient way to run the eact same experimentmultiple time. Unfortunately, you will have to do that with your own hands in the real world :-)"
     ]
    },
    {
     "cell_type": "heading",
     "level": 2,
     "metadata": {},
     "source": [
      "Starting the synchronization"
     ]
    },
    {
     "cell_type": "markdown",
     "metadata": {},
     "source": [
      " The next step is to start the synchronization between hardware motors/sensors to their software equivalent:"
     ]
    },
    {
     "cell_type": "code",
     "collapsed": false,
     "input": [
      "poppy.start_sync()"
     ],
     "language": "python",
     "metadata": {},
     "outputs": [],
     "prompt_number": 3
    },
    {
     "cell_type": "markdown",
     "metadata": {},
     "source": [
      "Now, all the motor registers should reflect their real values - actually the last retrieved one. "
     ]
    },
    {
     "cell_type": "markdown",
     "metadata": {},
     "source": [
      "You have to note the sync frequency may vary from one sensor to another: e.g. the present_position is refreshed at 50Hz while the present_temperature only at 1Hz."
     ]
    },
    {
     "cell_type": "heading",
     "level": 2,
     "metadata": {},
     "source": [
      "Access motor values"
     ]
    },
    {
     "cell_type": "markdown",
     "metadata": {},
     "source": [
      "You can access the list of the motors connected to your robot using the [motors](http://poppy-project.github.io/pypot/pypot.robot.html?highlight=json#pypot.robot.robot.Robot.motors) property:"
     ]
    },
    {
     "cell_type": "code",
     "collapsed": false,
     "input": [
      "poppy.motors"
     ],
     "language": "python",
     "metadata": {},
     "outputs": [
      {
       "metadata": {},
       "output_type": "pyout",
       "prompt_number": 4,
       "text": [
        "[<DxlMotor name=abs_y id=31 pos=-9.01>,\n",
        " <DxlMotor name=abs_x id=32 pos=-12.79>,\n",
        " <DxlMotor name=abs_z id=33 pos=3.47>,\n",
        " <DxlMotor name=bust_y id=34 pos=-3.47>,\n",
        " <DxlMotor name=bust_x id=35 pos=-24.4>,\n",
        " <DxlMotor name=head_z id=36 pos=14.22>,\n",
        " <DxlMotor name=head_y id=37 pos=44.11>,\n",
        " <DxlMotor name=l_shoulder_y id=41 pos=-141.03>,\n",
        " <DxlMotor name=l_shoulder_x id=42 pos=131.19>,\n",
        " <DxlMotor name=l_arm_z id=43 pos=83.82>,\n",
        " <DxlMotor name=l_elbow_y id=44 pos=-5.23>,\n",
        " <DxlMotor name=r_shoulder_y id=51 pos=24.15>,\n",
        " <DxlMotor name=r_shoulder_x id=52 pos=13.25>,\n",
        " <DxlMotor name=r_arm_z id=53 pos=-3.82>,\n",
        " <DxlMotor name=r_elbow_y id=54 pos=-17.98>,\n",
        " <DxlMotor name=l_hip_x id=11 pos=-7.34>,\n",
        " <DxlMotor name=l_hip_z id=12 pos=-1.45>,\n",
        " <DxlMotor name=l_hip_y id=13 pos=40.24>,\n",
        " <DxlMotor name=l_knee_y id=14 pos=35.74>,\n",
        " <DxlMotor name=l_ankle_y id=15 pos=49.63>,\n",
        " <DxlMotor name=r_hip_x id=21 pos=9.8>,\n",
        " <DxlMotor name=r_hip_z id=22 pos=9.89>,\n",
        " <DxlMotor name=r_hip_y id=23 pos=44.26>,\n",
        " <DxlMotor name=r_knee_y id=24 pos=36.18>,\n",
        " <DxlMotor name=r_ankle_y id=25 pos=45.41>]"
       ]
      }
     ],
     "prompt_number": 4
    },
    {
     "cell_type": "markdown",
     "metadata": {},
     "source": [
      "Or show only their names"
     ]
    },
    {
     "cell_type": "code",
     "collapsed": false,
     "input": [
      "[m.name for m in poppy.motors]"
     ],
     "language": "python",
     "metadata": {},
     "outputs": [
      {
       "metadata": {},
       "output_type": "pyout",
       "prompt_number": 5,
       "text": [
        "[u'abs_y',\n",
        " u'abs_x',\n",
        " u'abs_z',\n",
        " u'bust_y',\n",
        " u'bust_x',\n",
        " u'head_z',\n",
        " u'head_y',\n",
        " u'l_shoulder_y',\n",
        " u'l_shoulder_x',\n",
        " u'l_arm_z',\n",
        " u'l_elbow_y',\n",
        " u'r_shoulder_y',\n",
        " u'r_shoulder_x',\n",
        " u'r_arm_z',\n",
        " u'r_elbow_y',\n",
        " u'l_hip_x',\n",
        " u'l_hip_z',\n",
        " u'l_hip_y',\n",
        " u'l_knee_y',\n",
        " u'l_ankle_y',\n",
        " u'r_hip_x',\n",
        " u'r_hip_z',\n",
        " u'r_hip_y',\n",
        " u'r_knee_y',\n",
        " u'r_ankle_y']"
       ]
      }
     ],
     "prompt_number": 5
    },
    {
     "cell_type": "markdown",
     "metadata": {},
     "source": [
      "You can also access motors individually directly by their names:"
     ]
    },
    {
     "cell_type": "code",
     "collapsed": false,
     "input": [
      "poppy.l_hip_y"
     ],
     "language": "python",
     "metadata": {},
     "outputs": [
      {
       "metadata": {},
       "output_type": "pyout",
       "prompt_number": 6,
       "text": [
        "<DxlMotor name=l_hip_y id=13 pos=40.24>"
       ]
      }
     ],
     "prompt_number": 6
    },
    {
     "cell_type": "markdown",
     "metadata": {},
     "source": [
      "You can then access all register values:"
     ]
    },
    {
     "cell_type": "code",
     "collapsed": true,
     "input": [
      "poppy.l_hip_y.present_position"
     ],
     "language": "python",
     "metadata": {},
     "outputs": [
      {
       "metadata": {},
       "output_type": "pyout",
       "prompt_number": 7,
       "text": [
        "40.24"
       ]
      }
     ],
     "prompt_number": 7
    },
    {
     "cell_type": "code",
     "collapsed": false,
     "input": [
      "poppy.l_hip_y.present_temperature"
     ],
     "language": "python",
     "metadata": {},
     "outputs": [
      {
       "metadata": {},
       "output_type": "pyout",
       "prompt_number": 8,
       "text": [
        "38.0"
       ]
      }
     ],
     "prompt_number": 8
    },
    {
     "cell_type": "markdown",
     "metadata": {},
     "source": [
      "Using list comprehension, you can easily retrieve the value of a register for each motors."
     ]
    },
    {
     "cell_type": "markdown",
     "metadata": {},
     "source": [
      "Retrieve a dictionary ```{motor_name: position}``` just by doing:"
     ]
    },
    {
     "cell_type": "code",
     "collapsed": false,
     "input": [
      "{m.name: m.present_position for m in poppy.motors}"
     ],
     "language": "python",
     "metadata": {},
     "outputs": [
      {
       "metadata": {},
       "output_type": "pyout",
       "prompt_number": 9,
       "text": [
        "{u'abs_x': -12.79,\n",
        " u'abs_y': -9.01,\n",
        " u'abs_z': 3.47,\n",
        " u'bust_x': -24.4,\n",
        " u'bust_y': -3.47,\n",
        " u'head_y': 44.11,\n",
        " u'head_z': 14.22,\n",
        " u'l_ankle_y': 49.63,\n",
        " u'l_arm_z': 83.82,\n",
        " u'l_elbow_y': -5.23,\n",
        " u'l_hip_x': -7.34,\n",
        " u'l_hip_y': 40.24,\n",
        " u'l_hip_z': -1.45,\n",
        " u'l_knee_y': 35.74,\n",
        " u'l_shoulder_x': 131.19,\n",
        " u'l_shoulder_y': -141.03,\n",
        " u'r_ankle_y': 45.41,\n",
        " u'r_arm_z': -3.82,\n",
        " u'r_elbow_y': -17.98,\n",
        " u'r_hip_x': 9.8,\n",
        " u'r_hip_y': 44.26,\n",
        " u'r_hip_z': 9.89,\n",
        " u'r_knee_y': 36.18,\n",
        " u'r_shoulder_x': 13.25,\n",
        " u'r_shoulder_y': 24.069999999999993}"
       ]
      }
     ],
     "prompt_number": 9
    },
    {
     "cell_type": "heading",
     "level": 2,
     "metadata": {},
     "source": [
      "Sending motor commands"
     ]
    },
    {
     "cell_type": "markdown",
     "metadata": {},
     "source": [
      "Sending motor commands is really similar to reading them."
     ]
    },
    {
     "cell_type": "markdown",
     "metadata": {},
     "source": [
      "Let's try to make Poppy's head move a bit."
     ]
    },
    {
     "cell_type": "markdown",
     "metadata": {},
     "source": [
      "First, we have to make the motor uncompliant (dynamixel motors are set to compliant by default)."
     ]
    },
    {
     "cell_type": "code",
     "collapsed": false,
     "input": [
      "poppy.head_z.compliant = False"
     ],
     "language": "python",
     "metadata": {},
     "outputs": [],
     "prompt_number": 10
    },
    {
     "cell_type": "markdown",
     "metadata": {},
     "source": [
      "And then we can set a new goal_position:"
     ]
    },
    {
     "cell_type": "code",
     "collapsed": false,
     "input": [
      "poppy.head_z.goal_position = 10."
     ],
     "language": "python",
     "metadata": {},
     "outputs": [],
     "prompt_number": 11
    },
    {
     "cell_type": "markdown",
     "metadata": {},
     "source": [
      "We can of course makes it move to a relative position using its current one:"
     ]
    },
    {
     "cell_type": "code",
     "collapsed": false,
     "input": [
      "poppy.head_z.goal_position = poppy.head_z.present_position + 10"
     ],
     "language": "python",
     "metadata": {},
     "outputs": [],
     "prompt_number": 12
    },
    {
     "cell_type": "markdown",
     "metadata": {},
     "source": [
      "Similarly you can make Poppy's head follows a sinusoid with the following line of codes:"
     ]
    },
    {
     "cell_type": "markdown",
     "metadata": {},
     "source": [
      "We will use numpy to compute the sinus and matplotlib to plot it."
     ]
    },
    {
     "cell_type": "code",
     "collapsed": false,
     "input": [
      "%pylab inline\n",
      "\n",
      "amp = 30 # in degrees\n",
      "freq = 0.3 # in Hz \n",
      "duration = 10 # in s\n",
      "\n",
      "# Our sinus will be send at 50Hz to match the refresh frequency.\n",
      "# This is not at all mandatory, yet sending at a higher frequency will have no impact.\n",
      "step = 1 / 50.\n",
      "N = duration / step\n",
      "\n",
      "t = linspace(0, duration, N)\n",
      "pos = amp * sin(2 * pi * freq * t)"
     ],
     "language": "python",
     "metadata": {},
     "outputs": [
      {
       "output_type": "stream",
       "stream": "stdout",
       "text": [
        "Populating the interactive namespace from numpy and matplotlib\n"
       ]
      }
     ],
     "prompt_number": 13
    },
    {
     "cell_type": "markdown",
     "metadata": {},
     "source": [
      "Let's plot it to make sure everything is fined."
     ]
    },
    {
     "cell_type": "code",
     "collapsed": false,
     "input": [
      "plot(t, pos)"
     ],
     "language": "python",
     "metadata": {},
     "outputs": [
      {
       "metadata": {},
       "output_type": "pyout",
       "prompt_number": 14,
       "text": [
        "[<matplotlib.lines.Line2D at 0x7fd0fd6dd9d0>]"
       ]
      },
      {
       "metadata": {},
       "output_type": "display_data",
       "png": "[encoded data removed]",
       "text": [
        "<matplotlib.figure.Figure at 0x7fd0fe848990>"
       ]
      }
     ],
     "prompt_number": 14
    },
    {
     "cell_type": "markdown",
     "metadata": {},
     "source": [
      "And to apply it on the real robot:"
     ]
    },
    {
     "cell_type": "code",
     "collapsed": false,
     "input": [
      "import time\n",
      "\n",
      "for p in pos:\n",
      "    poppy.head_z.goal_position = p\n",
      "    time.sleep(step)"
     ],
     "language": "python",
     "metadata": {},
     "outputs": [],
     "prompt_number": 15
    },
    {
     "cell_type": "markdown",
     "metadata": {},
     "source": [
      "You should now see your Poppy turns its head :-)"
     ]
    },
    {
     "cell_type": "heading",
     "level": 2,
     "metadata": {},
     "source": [
      "Next..."
     ]
    },
    {
     "cell_type": "markdown",
     "metadata": {},
     "source": [
      "BTW, You could have done this in a much simpler way using primitives but that's another story..."
     ]
    }
   ],
   "metadata": {}
  }
 ]
}