{
 "metadata": {
  "name": "",
  "signature": "sha256:253374ccf81865f5bf38d8a7f1037d6db25f67800f077e2fcd419135d012e65b"
 },
 "nbformat": 3,
 "nbformat_minor": 0,
 "worksheets": [
  {
   "cells": [
    {
     "cell_type": "heading",
     "level": 1,
     "metadata": {},
     "source": [
      "Running a simple experiment on the simulated [Poppy robot](http://www.poppy-project.org)"
     ]
    },
    {
     "cell_type": "markdown",
     "metadata": {},
     "source": [
      "**[Note: as pypot permits to transparently switch from the real robot to the simulated version, this notebook is really similar to the one used to control the real robot]**"
     ]
    },
    {
     "cell_type": "markdown",
     "metadata": {},
     "source": [
      "Explauto comes with a [PyPotEnvironment](http://flowersteam.github.io/explauto/explauto.environment.html#explauto.environment.pypot.pypot_robot.PypotEnvironment) which links the [pypot library](https://github.com/poppy-project/pypot) to the explauto framework. This library, also developed in the [Flowers team](https://flowers.inria.fr) can be used to control robot based on the dynamixel motors. It is notabely used in the [poppy-project](http://www.poppy-project.org) to control Poppy. This framework also allows to use simulated version of the robot thanks to the [V-REP](http://www.coppeliarobotics.com) software."
     ]
    },
    {
     "cell_type": "markdown",
     "metadata": {},
     "source": [
      "![Alt text](https://flowers.inria.fr/poppy/wp-content/uploads/banners/walk_detail_hands-1100x380.jpg)"
     ]
    },
    {
     "cell_type": "markdown",
     "metadata": {},
     "source": [
      " As an example of how explauto can be used with pypot, we will setup a simple experiment where Poppy will learn the inverse model of its arm. To illustrate the power of explauto, we will make it learn simultaneously on both arms, by using motor babbling on the left arm and goal babbling on the right arm."
     ]
    },
    {
     "cell_type": "heading",
     "level": 2,
     "metadata": {},
     "source": [
      "Setup your Poppy using pypot"
     ]
    },
    {
     "cell_type": "markdown",
     "metadata": {},
     "source": [
      "We assume here that you are already familiar with pypot, or at least that you know the very basic stuff. \n",
      "If it is not the case you should directly refer to [Poppy documentation](http://wiki.poppy-project.org). Note that in order to work with the [PypotEnvironment](http://flowersteam.github.io/explauto/explauto.environment.html#explauto.environment.pypot.pypot_robot.PypotEnvironment) you need to have installed [pypot](http://poppy-project.github.io/pypot/) first. To use it with Poppy you also need the [poppytools](https://github.com/poppy-project/poppy-software).\n",
      "If you do not have setup pypot with V-REP yet, you should refer to this [HowTo](https://forum.poppy-project.org/t/howto-connect-pypot-to-you-simulated-version-of-poppy-in-v-rep/332)."
     ]
    },
    {
     "cell_type": "heading",
     "level": 3,
     "metadata": {},
     "source": [
      "Instantiate your robot"
     ]
    },
    {
     "cell_type": "markdown",
     "metadata": {},
     "source": [
      "First, Launch V-REP :-)"
     ]
    },
    {
     "cell_type": "markdown",
     "metadata": {},
     "source": [
      "And then instantiate your robot."
     ]
    },
    {
     "cell_type": "code",
     "collapsed": false,
     "input": [
      "import json\n",
      "\n",
      "from pypot.vrep import from_vrep\n",
      "\n",
      "config_path = 'poppy_config.json'\n",
      "scene_path = 'poppy-sitting.ttt'\n",
      "\n",
      "\n",
      "with open(config_path) as cf:\n",
      "    config = json.load(cf)\n",
      "\n",
      "poppy = from_vrep(config, '127.0.0.1', 19997, scene_path,\n",
      "                  tracked_objects=['left_hand_tracker', 'right_hand_tracker'])"
     ],
     "language": "python",
     "metadata": {},
     "outputs": [],
     "prompt_number": 1
    },
    {
     "cell_type": "markdown",
     "metadata": {},
     "source": [
      "Starts the synchronization loops."
     ]
    },
    {
     "cell_type": "code",
     "collapsed": false,
     "input": [
      "poppy.start_sync()"
     ],
     "language": "python",
     "metadata": {},
     "outputs": [],
     "prompt_number": 2
    },
    {
     "cell_type": "markdown",
     "metadata": {},
     "source": [
      "If everything went well, you should see something like this."
     ]
    },
    {
     "cell_type": "markdown",
     "metadata": {},
     "source": [
      "<img src=\"https://www.dropbox.com/s/04o6dy9l0ssmrg9/poppy-sit.png?dl=1\" />"
     ]
    },
    {
     "cell_type": "heading",
     "level": 2,
     "metadata": {},
     "source": [
      "Setup the experiment"
     ]
    },
    {
     "cell_type": "markdown",
     "metadata": {},
     "source": [
      "The [PypotEnvironment](http://flowersteam.github.io/explauto/explauto.environment.html#explauto.environment.pypot.pypot_robot.PypotEnvironment) is instantiated with:\n",
      "* a pypot based robot\n",
      "* a set of controlled motors\n",
      "* the duration of each motion\n",
      "* a tracker\n",
      "* the name of the object we want to track\n",
      "* plus, the usual sensori and motor bounds"
     ]
    },
    {
     "cell_type": "code",
     "collapsed": false,
     "input": [
      "from explauto.environment.pypot import PypotEnvironment\n",
      "from explauto.environment import environments\n",
      "\n",
      "pypot_env_configs = {}"
     ],
     "language": "python",
     "metadata": {},
     "outputs": [],
     "prompt_number": 3
    },
    {
     "cell_type": "heading",
     "level": 3,
     "metadata": {},
     "source": [
      "Register the configurations"
     ]
    },
    {
     "cell_type": "markdown",
     "metadata": {},
     "source": [
      "We first define both arms configuration:"
     ]
    },
    {
     "cell_type": "code",
     "collapsed": false,
     "input": [
      "from numpy import deg2rad, array\n",
      "\n",
      "# motor bounds for the left arm\n",
      "l_m_mins = deg2rad(array([-15, 0, -90, -90]))\n",
      "l_m_maxs = deg2rad(array([90, 90, 90, 0]))\n",
      "\n",
      "# motor bounds for the right arm\n",
      "r_m_mins = deg2rad(array([-15, -90, -90, -90]))\n",
      "r_m_maxs = deg2rad(array([90, 0, 90, 0]))\n",
      "\n",
      "# sensor bounds for the left arm\n",
      "l_s_mins = array((-0.2, -0.1, 0.0))\n",
      "l_s_maxs = array((0.4, 0.5, 0.6))\n",
      "\n",
      "# sensor bounds for the right arm\n",
      "r_s_mins = array((-0.2, -0.5, 0.0))\n",
      "r_s_maxs = array((0.4, 0.1, 0.6))"
     ],
     "language": "python",
     "metadata": {},
     "outputs": [],
     "prompt_number": 4
    },
    {
     "cell_type": "markdown",
     "metadata": {},
     "source": [
      "We define a simple tracker using V-REP object."
     ]
    },
    {
     "cell_type": "code",
     "collapsed": false,
     "input": [
      "class VrepTracker(object):\n",
      "    def get_position(self, tracked_object):\n",
      "        return getattr(poppy, tracked_object).position\n",
      "    \n",
      "tracker = VrepTracker()"
     ],
     "language": "python",
     "metadata": {},
     "outputs": [],
     "prompt_number": 5
    },
    {
     "cell_type": "markdown",
     "metadata": {},
     "source": [
      "Then, let's define the config for the left arm."
     ]
    },
    {
     "cell_type": "code",
     "collapsed": false,
     "input": [
      "env_cls = PypotEnvironment\n",
      "\n",
      "conf = {'pypot_robot': poppy,\n",
      "        'motors': poppy.l_arm,\n",
      "        'move_duration': 1.0,\n",
      "        'tracker': tracker,\n",
      "        'tracked_obj': 'left_hand_tracker',\n",
      "        'm_mins': l_m_mins,\n",
      "        'm_maxs': l_m_maxs,\n",
      "        's_mins': l_s_mins,\n",
      "        's_maxs': l_s_maxs}\n",
      "\n",
      "pypot_env_configs['l_arm'] = conf"
     ],
     "language": "python",
     "metadata": {},
     "outputs": [],
     "prompt_number": 6
    },
    {
     "cell_type": "markdown",
     "metadata": {},
     "source": [
      "Then, the right arm config:"
     ]
    },
    {
     "cell_type": "code",
     "collapsed": false,
     "input": [
      "conf = {'pypot_robot': poppy,\n",
      "        'motors': poppy.r_arm,\n",
      "        'move_duration': 1.0,\n",
      "        'tracker': tracker,\n",
      "        'tracked_obj': 'right_hand_tracker',\n",
      "        'm_mins': r_m_mins,\n",
      "        'm_maxs': r_m_maxs,\n",
      "        's_mins': r_s_mins,\n",
      "        's_maxs': r_s_maxs}\n",
      "\n",
      "pypot_env_configs['r_arm'] = conf"
     ],
     "language": "python",
     "metadata": {},
     "outputs": [],
     "prompt_number": 7
    },
    {
     "cell_type": "markdown",
     "metadata": {},
     "source": [
      "And finally we register them both:"
     ]
    },
    {
     "cell_type": "code",
     "collapsed": false,
     "input": [
      "environments['poppy'] = (PypotEnvironment, pypot_env_configs, None)"
     ],
     "language": "python",
     "metadata": {},
     "outputs": [],
     "prompt_number": 8
    },
    {
     "cell_type": "heading",
     "level": 3,
     "metadata": {},
     "source": [
      "Define the two experiment settings"
     ]
    },
    {
     "cell_type": "code",
     "collapsed": false,
     "input": [
      "from explauto.experiment import Experiment, make_settings"
     ],
     "language": "python",
     "metadata": {},
     "outputs": [],
     "prompt_number": 9
    },
    {
     "cell_type": "code",
     "collapsed": false,
     "input": [
      "s = make_settings(environment='poppy', \n",
      "                  babbling_mode='motor', \n",
      "                  interest_model='random',\n",
      "                  sensorimotor_model='nearest_neighbor',\n",
      "                  environment_config='l_arm')\n",
      "motor_xp = Experiment.from_settings(s)\n",
      "\n",
      "\n",
      "s = make_settings(environment='poppy', \n",
      "                  babbling_mode='goal', \n",
      "                  interest_model='random',\n",
      "                  sensorimotor_model='nearest_neighbor',\n",
      "                  environment_config='r_arm')\n",
      "goal_xp = Experiment.from_settings(s)"
     ],
     "language": "python",
     "metadata": {},
     "outputs": [],
     "prompt_number": 10
    },
    {
     "cell_type": "heading",
     "level": 2,
     "metadata": {},
     "source": [
      "Run the experiment"
     ]
    },
    {
     "cell_type": "code",
     "collapsed": false,
     "input": [
      "N_ITER = 100"
     ],
     "language": "python",
     "metadata": {},
     "outputs": [],
     "prompt_number": 11
    },
    {
     "cell_type": "code",
     "collapsed": false,
     "input": [
      "for _ in range(N_ITER):\n",
      "    goal_xp.run(1, bg=True)\n",
      "    motor_xp.run(1, bg=True)\n",
      "\n",
      "    goal_xp.wait() and motor_xp.wait()\n",
      "    \n",
      "    poppy.reset_simulation()"
     ],
     "language": "python",
     "metadata": {},
     "outputs": [
      {
       "output_type": "stream",
       "stream": "stderr",
       "text": [
        "WARNING:explauto.agent.agent:Sensorimotor model not bootstrapped yet\n",
        "WARNING:explauto.agent.agent:Sensorimotor model not bootstrapped yet\n"
       ]
      }
     ],
     "prompt_number": 12
    },
    {
     "cell_type": "heading",
     "level": 3,
     "metadata": {},
     "source": [
      "Plot the results"
     ]
    },
    {
     "cell_type": "code",
     "collapsed": false,
     "input": [
      "%pylab inline"
     ],
     "language": "python",
     "metadata": {},
     "outputs": [
      {
       "output_type": "stream",
       "stream": "stdout",
       "text": [
        "Populating the interactive namespace from numpy and matplotlib\n"
       ]
      }
     ],
     "prompt_number": 13
    },
    {
     "cell_type": "code",
     "collapsed": false,
     "input": [
      "ax_motor = subplot(121)\n",
      "ax_motor.axis([0, 1, -1, 1])\n",
      "data = motor_xp.log.scatter_plot(ax_motor, (('sensori', [0, 1]), ), color='red')\n",
      "legend(('motor', ))\n",
      "\n",
      "ax_goal = subplot(122)\n",
      "ax_goal.axis([0, 1, -1, 1])\n",
      "data = goal_xp.log.scatter_plot(ax_goal, (('sensori', [0, 1]), ), color='green')\n",
      "legend(('goal', ))"
     ],
     "language": "python",
     "metadata": {},
     "outputs": [
      {
       "metadata": {},
       "output_type": "pyout",
       "prompt_number": 14,
       "text": [
        "<matplotlib.legend.Legend at 0x10fe3ded0>"
       ]
      },
      {
       "metadata": {},
       "output_type": "display_data",
       "png": "[encoded data removed]",
       "text": [
        "<matplotlib.figure.Figure at 0x10fd01810>"
       ]
      }
     ],
     "prompt_number": 14
    },
    {
     "cell_type": "code",
     "collapsed": false,
     "input": [],
     "language": "python",
     "metadata": {},
     "outputs": []
    }
   ],
   "metadata": {}
  }
 ]
}